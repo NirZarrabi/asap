{
 "cells": [
  {
   "cell_type": "code",
   "execution_count": null,
   "metadata": {
    "scrolled": true
   },
   "outputs": [],
   "source": [
    "# Example of running ASAP on CPU\n",
    "import asap_cpu\n",
    "import numpy as np\n",
    "pwc_mat = np.array([[0,1,2,3,1],\n",
    "                    [1,0,2,3,1],\n",
    "                    [1,2,0,3,1],\n",
    "                    [1,2,3,0,1],\n",
    "                    [1,2,3,1,0]])\n",
    "N = np.shape(pwc_mat)[0]\n",
    "asap = asap_cpu.ASAP(N, selective_eig = True)\n",
    "pairs_to_compare = asap.run_asap(pwc_mat, mst_mode=True)\n",
    "\n",
    "# Get current score estimation\n",
    "scores_mean, scores_std = asap.get_scores()\n",
    "\n",
    "\n",
    "\n",
    "print(\"Indeces from pwc_mat to compare:\")\n",
    "print(pairs_to_compare)\n",
    "print(\"Scores means \\n\",scores_mean)\n",
    "print(\"Scores standard deviaion \\n\", scores_std)\n"
   ]
  },
  {
   "cell_type": "code",
   "execution_count": null,
   "metadata": {
    "scrolled": true
   },
   "outputs": [],
   "source": [
    "# Example of running asap_gpu. Note, that due to computational/space optimizations\n",
    "# selected batch of comparisons might be different from the pure CPU version\n",
    "\n",
    "import asap_gpu\n",
    "import numpy as np\n",
    "pwc_mat = np.array([[0,1,2,3,1],\n",
    "                    [1,0,2,3,1],\n",
    "                    [1,2,0,3,1],\n",
    "                    [1,2,3,0,1],\n",
    "                    [1,2,3,1,0]])\n",
    "pairs, scores_mean, scores_std = asap_gpu.ASAP(pwc_mat, mst_mode=True, cuda=True, get_scores = True)\n",
    "\n",
    "print(\"Indeces from pwc_mat to compare:\")\n",
    "print(pairs)\n",
    "print(\"Scores means \\n\",scores_mean)\n",
    "print(\"Scores standard deviaion \\n\", scores_std)\n",
    "\n"
   ]
  },
  {
   "cell_type": "code",
   "execution_count": null,
   "metadata": {},
   "outputs": [],
   "source": [
    "# Example of running ASAP-approx on CPU\n",
    "\n",
    "import asap_cpu\n",
    "import numpy as np\n",
    "pwc_mat = np.array([[0,1,2,3,1],\n",
    "                    [1,0,2,3,1],\n",
    "                    [1,2,0,3,1],\n",
    "                    [1,2,3,0,1],\n",
    "                    [1,2,3,1,0]])\n",
    "N = np.shape(pwc_mat)[0]\n",
    "asap = asap_cpu.ASAP(N, selective_eig = True, approx = True)\n",
    "pairs_to_compare = asap.run_asap(pwc_mat, mst_mode=True)\n",
    "\n",
    "# Get current score estimation\n",
    "scores_mean, scores_std = asap.get_scores()\n",
    "\n",
    "print(\"Indeces from pwc_mat to compare:\")\n",
    "print(pairs_to_compare)\n",
    "print(\"Scores means \\n\",scores_mean)\n",
    "print(\"Scores standard deviaion \\n\", scores_std)"
   ]
  }
 ],
 "metadata": {
  "kernelspec": {
   "display_name": "Python 3",
   "language": "python",
   "name": "python3"
  },
  "language_info": {
   "codemirror_mode": {
    "name": "ipython",
    "version": 3
   },
   "file_extension": ".py",
   "mimetype": "text/x-python",
   "name": "python",
   "nbconvert_exporter": "python",
   "pygments_lexer": "ipython3",
   "version": "3.8.10"
  }
 },
 "nbformat": 4,
 "nbformat_minor": 2
}
